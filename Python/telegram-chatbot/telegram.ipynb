{
 "cells": [
  {
   "cell_type": "markdown",
   "metadata": {},
   "source": [
    "# `telegram.ipynb`\n",
    "\n",
    "## post man  사용"
   ]
  },
  {
   "cell_type": "code",
   "execution_count": null,
   "metadata": {},
   "outputs": [],
   "source": [
    "#  bot의 주민번호\n",
    "bot_token = '8379765061:AAFUW5XfjIood5jnoTzYwsguwyj-PzKD-v0'"
   ]
  },
  {
   "cell_type": "code",
   "execution_count": 10,
   "metadata": {},
   "outputs": [],
   "source": [
    "# 고정된 url. 뒤에 붙는 말에 따라 다른 요청이 됨\n",
    "url = f'https://api.telegram.org/bot{bot_token}'"
   ]
  },
  {
   "cell_type": "code",
   "execution_count": 11,
   "metadata": {},
   "outputs": [
    {
     "name": "stdout",
     "output_type": "stream",
     "text": [
      "https://api.telegram.org/bot8379765061:AAFUW5XfjIood5jnoTzYwsguwyj-PzKD-v0/getMe\n"
     ]
    }
   ],
   "source": [
    "print(url + '/getMe')"
   ]
  },
  {
   "cell_type": "code",
   "execution_count": 12,
   "metadata": {},
   "outputs": [
    {
     "name": "stdout",
     "output_type": "stream",
     "text": [
      "https://api.telegram.org/bot8379765061:AAFUW5XfjIood5jnoTzYwsguwyj-PzKD-v0/getUpdates\n"
     ]
    }
   ],
   "source": [
    "print(url + '/getUpdates')"
   ]
  },
  {
   "cell_type": "code",
   "execution_count": 13,
   "metadata": {},
   "outputs": [
    {
     "name": "stdout",
     "output_type": "stream",
     "text": [
      "https://api.telegram.org/bot8379765061:AAFUW5XfjIood5jnoTzYwsguwyj-PzKD-v0/sendMessage?chat_id=1987639456&text=안녕\n"
     ]
    }
   ],
   "source": [
    "my_id = '1987639456'\n",
    "\n",
    "message = '안녕'\n",
    "\n",
    "print(url + '/sendMessage' + f'?chat_id={my_id}&text={message}')"
   ]
  },
  {
   "cell_type": "code",
   "execution_count": 34,
   "metadata": {},
   "outputs": [],
   "source": [
    "import requests\n",
    "data = requests.get(url + '/getUpdates').json()"
   ]
  },
  {
   "cell_type": "code",
   "execution_count": 35,
   "metadata": {},
   "outputs": [
    {
     "name": "stdout",
     "output_type": "stream",
     "text": [
      "로또 1987639456\n"
     ]
    }
   ],
   "source": [
    "#  데이터 안에 마지막 메세지의 text(내용)을 뽑아라.\n",
    "last_text = data['result'][-1]['message']['text']\n",
    "#  마지막 메시지의 보낸사람 id 뽑기\n",
    "last_chat_id = data['result'][-1]['message']['from']['id']\n",
    "\n",
    "print(last_text, last_chat_id)"
   ]
  },
  {
   "cell_type": "code",
   "execution_count": 26,
   "metadata": {},
   "outputs": [
    {
     "data": {
      "text/plain": [
       "{'ok': True,\n",
       " 'result': {'message_id': 9,\n",
       "  'from': {'id': 8379765061,\n",
       "   'is_bot': True,\n",
       "   'first_name': 'gc_bot',\n",
       "   'username': 'ygc0618_bot'},\n",
       "  'chat': {'id': 1987639456,\n",
       "   'first_name': 'y',\n",
       "   'last_name': 'gc',\n",
       "   'username': 'qwerty0424',\n",
       "   'type': 'private'},\n",
       "  'date': 1753333883,\n",
       "  'text': '따라해봐라'}}"
      ]
     },
     "execution_count": 26,
     "metadata": {},
     "output_type": "execute_result"
    }
   ],
   "source": [
    "body = {\n",
    "    'chat_id':last_chat_id,\n",
    "    'text': last_text, \n",
    "}\n",
    "requests.get(url+f'/sendMessage', body).json()"
   ]
  },
  {
   "cell_type": "code",
   "execution_count": null,
   "metadata": {},
   "outputs": [
    {
     "data": {
      "text/plain": [
       "{'ok': True,\n",
       " 'result': {'message_id': 17,\n",
       "  'from': {'id': 8379765061,\n",
       "   'is_bot': True,\n",
       "   'first_name': 'gc_bot',\n",
       "   'username': 'ygc0618_bot'},\n",
       "  'chat': {'id': 1987639456,\n",
       "   'first_name': 'y',\n",
       "   'last_name': 'gc',\n",
       "   'username': 'qwerty0424',\n",
       "   'type': 'private'},\n",
       "  'date': 1753336154,\n",
       "  'text': '25, 43, 3, 21, 13, 34'}}"
      ]
     },
     "execution_count": 38,
     "metadata": {},
     "output_type": "execute_result"
    }
   ],
   "source": [
    "import random\n",
    "if last_text == '로또' or last_text == 'lotto':\n",
    "    text = str(random.sample(range(1,46), 6))[1:-1]\n",
    "elif last_text == '안녕':\n",
    "    text = '오냐'\n",
    "else:\n",
    "    text = '아직은 그런건 몰루'\n",
    "\n",
    "body = {\n",
    "    'chat_id':last_chat_id,\n",
    "    'text': text,\n",
    "}\n",
    "requests.get(url + f'/sendMessage', body).json()"
   ]
  }
 ],
 "metadata": {
  "kernelspec": {
   "display_name": "Python 3",
   "language": "python",
   "name": "python3"
  },
  "language_info": {
   "codemirror_mode": {
    "name": "ipython",
    "version": 3
   },
   "file_extension": ".py",
   "mimetype": "text/x-python",
   "name": "python",
   "nbconvert_exporter": "python",
   "pygments_lexer": "ipython3",
   "version": "3.13.2"
  }
 },
 "nbformat": 4,
 "nbformat_minor": 2
}
